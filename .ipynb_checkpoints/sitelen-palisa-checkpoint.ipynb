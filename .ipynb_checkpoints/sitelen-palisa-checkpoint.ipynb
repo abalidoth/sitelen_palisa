{
 "cells": [
  {
   "cell_type": "code",
   "execution_count": 3,
   "metadata": {},
   "outputs": [],
   "source": [
    "from PIL import Image, ImageDraw, ImageFilter\n",
    "import numpy as np"
   ]
  },
  {
   "cell_type": "code",
   "execution_count": 106,
   "metadata": {},
   "outputs": [],
   "source": [
    "\n",
    "\n",
    "def flip_horizontal(l):\n",
    "    out = []\n",
    "    for i,j in l:\n",
    "        out.append((w-i,j))\n",
    "    return out\n",
    "\n",
    "def flip_vertical(l):\n",
    "    out = []\n",
    "    for i,j in l:\n",
    "        out.append((i,h-j))\n",
    "    return out\n",
    "    "
   ]
  },
  {
   "cell_type": "code",
   "execution_count": 107,
   "metadata": {},
   "outputs": [],
   "source": [
    "w,h = 150,200"
   ]
  },
  {
   "cell_type": "code",
   "execution_count": 108,
   "metadata": {},
   "outputs": [],
   "source": [
    "vertical_margin = 20\n",
    "horizontal_margin = 20\n",
    "line_width = 10\n",
    "gap = 5\n",
    "tilt = 0"
   ]
  },
  {
   "cell_type": "code",
   "execution_count": 109,
   "metadata": {},
   "outputs": [],
   "source": [
    "swid = line_width // 2\n",
    "topline = swid + vertical_margin\n",
    "leftline = swid + horizontal_margin\n",
    "center_vert = w/2\n",
    "center_hori = h/2"
   ]
  },
  {
   "cell_type": "code",
   "execution_count": 110,
   "metadata": {},
   "outputs": [],
   "source": [
    "seg_coords = {\n",
    "    \"t\": [(30,25), (35,20), (115,20), (120,25), (115,30), (35,30)],\n",
    "    \"tl\":[(25,30), (20,35), (20,90), (25,95), (30,90), (30,35)],\n",
    "    \"ml\":[(30,100), (35,105), (65,105), (70,100), (65,95), (35,95)],\n",
    "    \"tm\":[(70,35), (80,35), (80,90), (75,95), (70,90)],\n",
    "    \"tld\":[(35,35), (35,50), (65,90), (65,75)]\n",
    "}"
   ]
  },
  {
   "cell_type": "code",
   "execution_count": 111,
   "metadata": {},
   "outputs": [],
   "source": [
    "seg_coords[\"b\"] = flip_vertical(seg_coords[\"t\"])\n",
    "seg_coords[\"tr\"] = flip_horizontal(seg_coords[\"tl\"])\n",
    "seg_coords[\"bl\"] = flip_vertical(seg_coords[\"tl\"])\n",
    "seg_coords[\"br\"] = flip_horizontal(seg_coords[\"bl\"])\n",
    "seg_coords[\"mr\"] = flip_horizontal(seg_coords[\"ml\"])\n",
    "seg_coords[\"bm\"] = flip_vertical(seg_coords[\"tm\"])\n",
    "seg_coords[\"trd\"] = flip_horizontal(seg_coords[\"tld\"])\n",
    "seg_coords[\"bld\"] = flip_vertical(seg_coords[\"tld\"])\n",
    "seg_coords[\"brd\"] = flip_vertical(seg_coords[\"trd\"])"
   ]
  },
  {
   "cell_type": "raw",
   "metadata": {},
   "source": [
    "new_seg_coords = dict()\n",
    "seg_coords = {t:[(i-(j-h/2)*tilt, j) for i,j in poly] for t,poly in seg_coords.items()}"
   ]
  },
  {
   "cell_type": "code",
   "execution_count": 112,
   "metadata": {},
   "outputs": [],
   "source": [
    "lit_segs = [i for i in seg_coords.keys() if np.random.random()<0.5]\n",
    "lit_segs = [\"b\",\"tl\",\"tr\",\"ml\",\"mr\",\"bl\",\"br\",\"bm\",\"tld\",\"trd\"]"
   ]
  },
  {
   "cell_type": "code",
   "execution_count": 113,
   "metadata": {},
   "outputs": [],
   "source": [
    "on_seg = Image.new(\"RGBA\",(w,h),(0,0,0,0))\n",
    "off_seg = Image.new(\"RGBA\",(w,h),(0,0,0,0))"
   ]
  },
  {
   "cell_type": "code",
   "execution_count": 114,
   "metadata": {},
   "outputs": [],
   "source": [
    "on_seg_d = ImageDraw.Draw(on_seg)\n",
    "off_seg_d = ImageDraw.Draw(off_seg)"
   ]
  },
  {
   "cell_type": "code",
   "execution_count": 115,
   "metadata": {},
   "outputs": [],
   "source": [
    "k=np.zeros([w,h,4])\n",
    "\n",
    "hole_size = 4\n",
    "binary_mask = [[((y%(2*hole_size)==0) or ((x+(hole_size)*((y//(2*hole_size))%2))%(2*hole_size)==0)) for x in range(w)] for y in range(h)]\n",
    "\n",
    "Image.fromarray(255-np.array(binary_mask, dtype=\"uint8\")*255);"
   ]
  },
  {
   "cell_type": "code",
   "execution_count": 116,
   "metadata": {},
   "outputs": [],
   "source": [
    "for seg_name, seg_poly in seg_coords.items(): \n",
    "    if seg_name in lit_segs:\n",
    "        on_seg_d.polygon(seg_poly, fill=(0,255,255,255))\n",
    "    else:\n",
    "        off_seg_d.polygon(seg_poly, fill=(0,255,255,30))"
   ]
  },
  {
   "cell_type": "code",
   "execution_count": 117,
   "metadata": {},
   "outputs": [
    {
     "data": {
      "text/plain": [
       "<PIL.ImageDraw.ImageDraw at 0x7f94f7ca2310>"
      ]
     },
     "execution_count": 117,
     "metadata": {},
     "output_type": "execute_result"
    }
   ],
   "source": [
    "on_seg_d"
   ]
  },
  {
   "cell_type": "code",
   "execution_count": 118,
   "metadata": {},
   "outputs": [],
   "source": [
    "out_image = Image.new(mode=\"RGBA\",size=(w,h), color=(0,20,20,255))\n",
    "out_image = Image.alpha_composite(out_image, on_seg)\n"
   ]
  },
  {
   "cell_type": "code",
   "execution_count": 119,
   "metadata": {},
   "outputs": [],
   "source": [
    "out_image = out_image.filter(ImageFilter.GaussianBlur(7)) #apply glow"
   ]
  },
  {
   "cell_type": "code",
   "execution_count": 120,
   "metadata": {},
   "outputs": [],
   "source": [
    "out_image = Image.alpha_composite(out_image, on_seg)\n",
    "out_image = Image.alpha_composite(out_image, off_seg)\n",
    "out_image;"
   ]
  },
  {
   "cell_type": "code",
   "execution_count": 121,
   "metadata": {},
   "outputs": [],
   "source": [
    "grid_opacity = 50\n",
    "z=np.array(binary_mask)[:,:,np.newaxis]*(np.ones([1,1,4]))*grid_opacity\n",
    "z[:,:,:3]=0\n",
    "grid = Image.fromarray(z.astype(\"uint8\"))\n",
    "grid = grid.filter(ImageFilter.GaussianBlur(0.5))"
   ]
  },
  {
   "cell_type": "code",
   "execution_count": 122,
   "metadata": {},
   "outputs": [],
   "source": [
    "z[:,:,:3]=0"
   ]
  },
  {
   "cell_type": "code",
   "execution_count": 123,
   "metadata": {},
   "outputs": [
    {
     "data": {
      "image/png": "[encoded data removed]",
      "text/plain": [
       "<PIL.Image.Image image mode=RGBA size=150x200 at 0x7F94F8305520>"
      ]
     },
     "execution_count": 123,
     "metadata": {},
     "output_type": "execute_result"
    }
   ],
   "source": [
    "out_image = Image.alpha_composite(out_image, grid)\n",
    "out_image"
   ]
  },
  {
   "cell_type": "code",
   "execution_count": 124,
   "metadata": {},
   "outputs": [
    {
     "data": {
      "text/plain": [
       "{'t': [(30, 25), (35, 20), (115, 20), (120, 25), (115, 30), (35, 30)],\n",
       " 'tl': [(25, 30), (20, 35), (20, 90), (25, 95), (30, 90), (30, 35)],\n",
       " 'ml': [(30, 100), (35, 105), (65, 105), (70, 100), (65, 95), (35, 95)],\n",
       " 'tm': [(70, 35), (80, 35), (80, 90), (75, 95), (70, 90)],\n",
       " 'tld': [(35, 35), (35, 50), (65, 90), (65, 75)],\n",
       " 'b': [(30, 175), (35, 180), (115, 180), (120, 175), (115, 170), (35, 170)],\n",
       " 'tr': [(125, 30), (130, 35), (130, 90), (125, 95), (120, 90), (120, 35)],\n",
       " 'bl': [(25, 170), (20, 165), (20, 110), (25, 105), (30, 110), (30, 165)],\n",
       " 'br': [(125, 170),\n",
       "  (130, 165),\n",
       "  (130, 110),\n",
       "  (125, 105),\n",
       "  (120, 110),\n",
       "  (120, 165)],\n",
       " 'mr': [(120, 100), (115, 105), (85, 105), (80, 100), (85, 95), (115, 95)],\n",
       " 'bm': [(70, 165), (80, 165), (80, 110), (75, 105), (70, 110)],\n",
       " 'trd': [(115, 35), (115, 50), (85, 90), (85, 75)],\n",
       " 'bld': [(35, 165), (35, 150), (65, 110), (65, 125)],\n",
       " 'brd': [(115, 165), (115, 150), (85, 110), (85, 125)]}"
      ]
     },
     "execution_count": 124,
     "metadata": {},
     "output_type": "execute_result"
    }
   ],
   "source": [
    "seg_coords"
   ]
  },
  {
   "cell_type": "code",
   "execution_count": 125,
   "metadata": {},
   "outputs": [],
   "source": [
    "from json import dump"
   ]
  },
  {
   "cell_type": "code",
   "execution_count": 126,
   "metadata": {},
   "outputs": [],
   "source": [
    "with open(\"seg_coords.json\",\"w\") as f:\n",
    "    dump(seg_coords, f)"
   ]
  },
  {
   "cell_type": "code",
   "execution_count": 127,
   "metadata": {},
   "outputs": [],
   "source": [
    "from collections import defaultdict"
   ]
  },
  {
   "cell_type": "code",
   "execution_count": 129,
   "metadata": {},
   "outputs": [
    {
     "data": {
      "text/plain": [
       "defaultdict(list,\n",
       "            {'t': [(30, 25),\n",
       "              (35, 20),\n",
       "              (115, 20),\n",
       "              (120, 25),\n",
       "              (115, 30),\n",
       "              (35, 30)],\n",
       "             'tl': [(25, 30),\n",
       "              (20, 35),\n",
       "              (20, 90),\n",
       "              (25, 95),\n",
       "              (30, 90),\n",
       "              (30, 35)],\n",
       "             'ml': [(30, 100),\n",
       "              (35, 105),\n",
       "              (65, 105),\n",
       "              (70, 100),\n",
       "              (65, 95),\n",
       "              (35, 95)],\n",
       "             'tm': [(70, 35), (80, 35), (80, 90), (75, 95), (70, 90)],\n",
       "             'tld': [(35, 35), (35, 50), (65, 90), (65, 75)],\n",
       "             'b': [(30, 175),\n",
       "              (35, 180),\n",
       "              (115, 180),\n",
       "              (120, 175),\n",
       "              (115, 170),\n",
       "              (35, 170)],\n",
       "             'tr': [(125, 30),\n",
       "              (130, 35),\n",
       "              (130, 90),\n",
       "              (125, 95),\n",
       "              (120, 90),\n",
       "              (120, 35)],\n",
       "             'bl': [(25, 170),\n",
       "              (20, 165),\n",
       "              (20, 110),\n",
       "              (25, 105),\n",
       "              (30, 110),\n",
       "              (30, 165)],\n",
       "             'br': [(125, 170),\n",
       "              (130, 165),\n",
       "              (130, 110),\n",
       "              (125, 105),\n",
       "              (120, 110),\n",
       "              (120, 165)],\n",
       "             'mr': [(120, 100),\n",
       "              (115, 105),\n",
       "              (85, 105),\n",
       "              (80, 100),\n",
       "              (85, 95),\n",
       "              (115, 95)],\n",
       "             'bm': [(70, 165), (80, 165), (80, 110), (75, 105), (70, 110)],\n",
       "             'trd': [(115, 35), (115, 50), (85, 90), (85, 75)],\n",
       "             'bld': [(35, 165), (35, 150), (65, 110), (65, 125)],\n",
       "             'brd': [(115, 165), (115, 150), (85, 110), (85, 125)]})"
      ]
     },
     "execution_count": 129,
     "metadata": {},
     "output_type": "execute_result"
    }
   ],
   "source": [
    "defaultdict(list, seg_coords)"
   ]
  },
  {
   "cell_type": "code",
   "execution_count": null,
   "metadata": {},
   "outputs": [],
   "source": []
  }
 ],
 "metadata": {
  "kernelspec": {
   "display_name": "Python 3",
   "language": "python",
   "name": "python3"
  },
  "language_info": {
   "codemirror_mode": {
    "name": "ipython",
    "version": 3
   },
   "file_extension": ".py",
   "mimetype": "text/x-python",
   "name": "python",
   "nbconvert_exporter": "python",
   "pygments_lexer": "ipython3",
   "version": "3.8.3"
  }
 },
 "nbformat": 4,
 "nbformat_minor": 4
}
